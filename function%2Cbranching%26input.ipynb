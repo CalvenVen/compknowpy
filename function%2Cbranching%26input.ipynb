{
 "cells": [
  {
   "cell_type": "code",
   "execution_count": null,
   "metadata": {
    "collapsed": false,
    "deletable": true,
    "editable": true
   },
   "outputs": [],
   "source": [
    "def greet(name,msg):\n",
    "    \"\"\"This function greets to the person with the provided message\"\"\"\n",
    "    return \"Hello\",name +\",\"+msg\n",
    "\n",
    "greet(\"Lim wei shun\",\"morning?\")"
   ]
  },
  {
   "cell_type": "code",
   "execution_count": null,
   "metadata": {
    "collapsed": false,
    "deletable": true,
    "editable": true
   },
   "outputs": [],
   "source": [
    "def F2(C): # function name (argument)\n",
    "    F_Value=(9/5)*C+32\n",
    "    return \"%.1f degress Celcuis correspond to %.1f Degrees Fahrenheit \"%(C,F_Value)\n",
    "s1=F2(22)\n",
    "s1"
   ]
  },
  {
   "cell_type": "code",
   "execution_count": null,
   "metadata": {
    "collapsed": false,
    "deletable": true,
    "editable": true
   },
   "outputs": [],
   "source": [
    "def F(C):\n",
    "    return (9/5)*C+32\n",
    "temp1=F(15.5)\n",
    "a=10\n",
    "temp2=F(a+1)\n",
    "sum_temp=F(10)+F(20)\n",
    "print (temp1,temp2,sum_temp)\n"
   ]
  },
  {
   "cell_type": "code",
   "execution_count": null,
   "metadata": {
    "collapsed": false,
    "deletable": true,
    "editable": true
   },
   "outputs": [],
   "source": [
    "def F3(C):\n",
    "    F3=(9/5)*C+32\n",
    "    return F3\n",
    "dC=10\n",
    "C=-30\n",
    "while C<=50:\n",
    "    print (\"%5.1f %.5f\"%(C,F3(C)))\n",
    "    C+=dC"
   ]
  },
  {
   "cell_type": "code",
   "execution_count": null,
   "metadata": {
    "collapsed": true,
    "deletable": true,
    "editable": true
   },
   "outputs": [],
   "source": [
    "def F4(C):#local variable\n",
    "    F_Value=(9/5)*C+32\n",
    "    print (\"Inside F4: C=%d F_Value=%d r=%d\"%(C,F_Value,r))\n",
    "    return \"%.1f degrees celcius correspond to %.1f degrees fahrenheit\"%(C,F_Value)\n",
    "C=60 #global variable \n",
    "r=21\n",
    "s3=F4(r)\n",
    "print (s3,\"\\n\",C)\n",
    "\n",
    "          "
   ]
  },
  {
   "cell_type": "code",
   "execution_count": null,
   "metadata": {
    "collapsed": true,
    "deletable": true,
    "editable": true
   },
   "outputs": [],
   "source": [
    "a=20; b=-2.5 \n",
    "   \n",
    "def f1(x):\n",
    "    a=21\n",
    "    return a*x+b\n",
    "print(a) #show global variable value\n",
    "\n",
    "def f2(x):\n",
    "    global a #change local to global\n",
    "    a=21\n",
    "    return a*x+b\n",
    "print (f1(3))\n",
    "print  (a) #global still 20\n",
    "print (f2(3))\n",
    "print (a) #global changed to 21"
   ]
  },
  {
   "cell_type": "code",
   "execution_count": null,
   "metadata": {
    "collapsed": true,
    "deletable": true,
    "editable": true
   },
   "outputs": [],
   "source": [
    "def myfunct(a,b):#multiple argument\n",
    "    Sum= a+b\n",
    "    return Sum\n",
    "print (myfunct(2,3))\n",
    "print (myfunct(a=3,b=4))"
   ]
  },
  {
   "cell_type": "code",
   "execution_count": null,
   "metadata": {
    "collapsed": true,
    "deletable": true,
    "editable": true
   },
   "outputs": [],
   "source": [
    "def myfunct(a):\n",
    "    Sum= a+b\n",
    "    return Sum\n",
    "b=5   #function argument of global variable \n",
    "myfunct(1)"
   ]
  },
  {
   "cell_type": "code",
   "execution_count": null,
   "metadata": {
    "collapsed": true,
    "deletable": true,
    "editable": true
   },
   "outputs": [],
   "source": [
    "def makelist(start,stop,icr):\n",
    "    value=start\n",
    "    result=[]\n",
    "    while value<=stop:\n",
    "        result.append(value)\n",
    "    value=value+icr\n",
    "    return result\n",
    "   \n",
    "mylist=makelist(0,100,2)\n",
    "print (mylist)\n",
    "    "
   ]
  },
  {
   "cell_type": "code",
   "execution_count": null,
   "metadata": {
    "collapsed": false,
    "deletable": true,
    "editable": true
   },
   "outputs": [],
   "source": [
    "def f(x):#same function with cell below\n",
    "    return x*2+3\n",
    "f(1)"
   ]
  },
  {
   "cell_type": "code",
   "execution_count": null,
   "metadata": {
    "collapsed": false,
    "deletable": true,
    "editable": true
   },
   "outputs": [],
   "source": [
    "f=lambda x:x*2+3 #lambda function for simple function use\n",
    "f(1)"
   ]
  },
  {
   "cell_type": "code",
   "execution_count": null,
   "metadata": {
    "collapsed": true,
    "deletable": true,
    "editable": true
   },
   "outputs": [],
   "source": [
    "age=10\n",
    "if age<18:          \n",
    "    print (\"child\")\n",
    "else: \n",
    "    print(\"aldult\")"
   ]
  },
  {
   "cell_type": "code",
   "execution_count": null,
   "metadata": {
    "collapsed": true,
    "deletable": true,
    "editable": true
   },
   "outputs": [],
   "source": [
    "even_num=[]\n",
    "odd_num=[]\n",
    "\n",
    "for num in range(1,100):\n",
    "    if num%2==0:               \n",
    "        even_num.append(num)\n",
    "    else:\n",
    "        odd_num.append(num)\n",
    "        \n",
    "print (\"Even numbers are\",even_num)\n",
    "print (\"Odd numbers are:\",odd_num)"
   ]
  },
  {
   "cell_type": "code",
   "execution_count": null,
   "metadata": {
    "collapsed": true,
    "deletable": true,
    "editable": true
   },
   "outputs": [],
   "source": [
    "numlist=range(1,100)\n",
    "for odd in numlist:\n",
    "    if odd%2!=0:\n",
    "        print(odd)"
   ]
  },
  {
   "cell_type": "code",
   "execution_count": null,
   "metadata": {
    "collapsed": true,
    "deletable": true,
    "editable": true
   },
   "outputs": [],
   "source": [
    "def age(x):\n",
    "    if x<=12:\n",
    "        status=\"child\"\n",
    "    elif x>=13 and x<=18:\n",
    "        status=\"young adult\"\n",
    "    else:\n",
    "        status=\"adult\"\n",
    "    return status\n",
    "age(19)"
   ]
  },
  {
   "cell_type": "code",
   "execution_count": null,
   "metadata": {
    "collapsed": true,
    "deletable": true,
    "editable": true
   },
   "outputs": [],
   "source": [
    "print(\"Hello!!!\")\n",
    "name = input (\"Enter your name\")\n",
    "print (\"Hello\",name)"
   ]
  },
  {
   "cell_type": "code",
   "execution_count": null,
   "metadata": {
    "collapsed": true,
    "deletable": true,
    "editable": true
   },
   "outputs": [],
   "source": [
    "C= float(input(\"Enter celcius\"))\n",
    "F=(9/5)*C+32\n",
    "print (F)"
   ]
  },
  {
   "cell_type": "code",
   "execution_count": null,
   "metadata": {
    "collapsed": false,
    "deletable": true,
    "editable": true
   },
   "outputs": [],
   "source": [
    "RM=float(input(\"RM\"))\n",
    "USD=(RM)*3.8\n",
    "print (\"RM%.2f is equal to %.2fUSD\"%(RM,USD))"
   ]
  },
  {
   "cell_type": "code",
   "execution_count": null,
   "metadata": {
    "collapsed": true,
    "deletable": true,
    "editable": true
   },
   "outputs": [],
   "source": []
  }
 ],
 "metadata": {
  "kernelspec": {
   "display_name": "Python 3",
   "language": "python",
   "name": "python3"
  },
  "language_info": {
   "codemirror_mode": {
    "name": "ipython",
    "version": 3
   },
   "file_extension": ".py",
   "mimetype": "text/x-python",
   "name": "python",
   "nbconvert_exporter": "python",
   "pygments_lexer": "ipython3",
   "version": "3.5.2"
  }
 },
 "nbformat": 4,
 "nbformat_minor": 2
}
