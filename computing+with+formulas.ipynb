{
 "cells": [
  {
   "cell_type": "code",
   "execution_count": null,
   "metadata": {},
   "outputs": [],
   "source": [
    "1+1*3"
   ]
  },
  {
   "cell_type": "code",
   "execution_count": null,
   "metadata": {},
   "outputs": [],
   "source": [
    "m = 2  # using Variables\n",
    "x = 4\n",
    "c = 5\n",
    "Y = m*x+c\n",
    "print (Y)"
   ]
  },
  {
   "cell_type": "code",
   "execution_count": null,
   "metadata": {},
   "outputs": [],
   "source": [
    "print (\"The Gradient of this equation is:\",Y)"
   ]
  },
  {
   "cell_type": "code",
   "execution_count": null,
   "metadata": {},
   "outputs": [],
   "source": [
    "v0=5\n",
    "g=9.81\n",
    "t=0.6\n",
    "y= v0*t-0.5*g*t**2\n",
    "print (y)\n",
    "print (\"the ans of\\n y is\",y)#tab / next line"
   ]
  },
  {
   "cell_type": "code",
   "execution_count": null,
   "metadata": {},
   "outputs": [],
   "source": [
    "print (\"\"\"the ans of\n",
    "y is \"\"\",y)#tab / next line"
   ]
  },
  {
   "cell_type": "code",
   "execution_count": null,
   "metadata": {},
   "outputs": [],
   "source": [
    "i= 12\n",
    "r= 2356887.23658887654\n",
    "print ('\"%e\"'%r)#%e and %E is the same, to compact scientific notation\n",
    "print ('\"%g\"'%r)#%g and %G is the same, to compact decimal/scientific notation\n",
    "print ('\"%f\"'%r)#decimal notation with 6 decimals\n",
    "print ('\"%010d\"' % r)#field of width / space\n",
    "print ('\"%20.2E\"' % r) # field of width 20.with 2 decimals\n",
    "print ('\"%30g\"' % r)     # field of width 30 (right-adjusted)\n",
    "print ('\"%-30g\"' % r )   # left-adjust number\n",
    "print ('\"%-30.4g\"' % r)  # 3 decimals\n"
   ]
  },
  {
   "cell_type": "code",
   "execution_count": null,
   "metadata": {},
   "outputs": [],
   "source": [
    "print (\"a text with an integer %d and a float %.2f\"%(2,3.4)) #object "
   ]
  },
  {
   "cell_type": "code",
   "execution_count": 1,
   "metadata": {},
   "outputs": [
    {
     "name": "stdout",
     "output_type": "stream",
     "text": [
      "90 % of 300.000 RM is 270.000 RM\n"
     ]
    }
   ],
   "source": [
    "print ('%g %% of %.3f RM is %.3f RM' %\n",
    "      (90, 300, 90/100*300))\n",
    "\n"
   ]
  },
  {
   "cell_type": "code",
   "execution_count": null,
   "metadata": {},
   "outputs": [],
   "source": [
    "a=3\n",
    "b=4\n",
    "0.5*a*b"
   ]
  },
  {
   "cell_type": "code",
   "execution_count": null,
   "metadata": {},
   "outputs": [],
   "source": [
    "import math #import the math module that include sin,cos,tan,asin,acos,atan,sinh,cosh,tanh,exp,log,sqrt#\n",
    "y=5*5\n",
    "x= math.sqrt (y)\n",
    "print (x)"
   ]
  },
  {
   "cell_type": "code",
   "execution_count": null,
   "metadata": {},
   "outputs": [],
   "source": [
    "from math import sqrt\n",
    "y=5*5\n",
    "x=sqrt (y)\n",
    "print (x)"
   ]
  },
  {
   "cell_type": "code",
   "execution_count": null,
   "metadata": {},
   "outputs": [],
   "source": [
    "from math import* #To call all function in math module\n",
    "y2= 2*pi\n",
    "x2= cos(y2)#in radian\n",
    "print (\"'%.2f'\"%x2)#with 2 decimals"
   ]
  },
  {
   "cell_type": "code",
   "execution_count": null,
   "metadata": {},
   "outputs": [],
   "source": [
    "#import with new names\n",
    "import math as m\n",
    "y3=100\n",
    "x3= m.sqrt(y3)\n",
    "print (\"'%.3f'\"%x3)\n",
    "\n",
    "from math import sin as s, cos as c, tan as t, sqrt as sr\n",
    "y4= 100\n",
    "x4= sr(y4)\n",
    "print (\"'%.3f'\"%x4)\n"
   ]
  },
  {
   "cell_type": "code",
   "execution_count": 1,
   "metadata": {},
   "outputs": [
    {
     "data": {
      "text/plain": [
       "int"
      ]
     },
     "execution_count": 1,
     "metadata": {},
     "output_type": "execute_result"
    }
   ],
   "source": [
    "z=21.1   #type conversion \n",
    "type(z)\n",
    "y=int(z)\n",
    "type(y)"
   ]
  },
  {
   "cell_type": "code",
   "execution_count": 2,
   "metadata": {},
   "outputs": [
    {
     "data": {
      "text/plain": [
       "21"
      ]
     },
     "execution_count": 2,
     "metadata": {},
     "output_type": "execute_result"
    }
   ],
   "source": [
    "int (round(20.6)) # round off"
   ]
  },
  {
   "cell_type": "code",
   "execution_count": null,
   "metadata": {
    "collapsed": true
   },
   "outputs": [],
   "source": []
  }
 ],
 "metadata": {
  "kernelspec": {
   "display_name": "Python 3",
   "language": "python",
   "name": "python3"
  },
  "language_info": {
   "codemirror_mode": {
    "name": "ipython",
    "version": 3
   },
   "file_extension": ".py",
   "mimetype": "text/x-python",
   "name": "python",
   "nbconvert_exporter": "python",
   "pygments_lexer": "ipython3",
   "version": "3.6.9"
  }
 },
 "nbformat": 4,
 "nbformat_minor": 2
}
